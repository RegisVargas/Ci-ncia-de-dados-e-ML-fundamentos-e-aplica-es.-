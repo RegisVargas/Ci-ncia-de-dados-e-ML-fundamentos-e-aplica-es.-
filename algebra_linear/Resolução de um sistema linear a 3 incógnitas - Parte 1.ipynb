{
 "cells": [
  {
   "cell_type": "markdown",
   "id": "0b1d14cd",
   "metadata": {
    "papermill": {
     "duration": 0.008628,
     "end_time": "2025-01-24T19:43:05.800146",
     "exception": false,
     "start_time": "2025-01-24T19:43:05.791518",
     "status": "completed"
    },
    "tags": []
   },
   "source": [
    "# Resolução de um sistema linear a 3 incógnitas - Parte 1\n",
    "\n",
    "Neste notebook, iremos abordar o seguinte sistema de equações a 3 incógnitas.\n",
    "\n",
    "$$\n",
    "\\begin{cases}\n",
    "2x + 3y - z &= 5 \\\\\n",
    "4x - y + 2z &= 6 \\\\\n",
    "-x + 5y + 3z &= -4\n",
    "\\end{cases}\n",
    "$$"
   ]
  },
  {
   "cell_type": "markdown",
   "id": "1d8b7af2",
   "metadata": {
    "papermill": {
     "duration": 0.00697,
     "end_time": "2025-01-24T19:43:05.814130",
     "exception": false,
     "start_time": "2025-01-24T19:43:05.807160",
     "status": "completed"
    },
    "tags": []
   },
   "source": [
    "A matriz de coeficientes para este sistema é dada por:"
   ]
  },
  {
   "cell_type": "code",
   "execution_count": 1,
   "id": "84f7c2fc",
   "metadata": {
    "execution": {
     "iopub.execute_input": "2025-01-24T19:43:05.828998Z",
     "iopub.status.busy": "2025-01-24T19:43:05.828651Z",
     "iopub.status.idle": "2025-01-24T19:43:05.836049Z",
     "shell.execute_reply": "2025-01-24T19:43:05.834914Z"
    },
    "papermill": {
     "duration": 0.016753,
     "end_time": "2025-01-24T19:43:05.837768",
     "exception": false,
     "start_time": "2025-01-24T19:43:05.821015",
     "status": "completed"
    },
    "tags": []
   },
   "outputs": [
    {
     "name": "stdout",
     "output_type": "stream",
     "text": [
      "[[ 2.  3. -1.]\n",
      " [ 4. -1.  2.]\n",
      " [-1.  5.  3.]]\n"
     ]
    }
   ],
   "source": [
    "import numpy as np\n",
    "\n",
    "coeficientes = np.array([\n",
    "    [2,3,-1],\n",
    "    [4,-1,2],\n",
    "    [-1,5,3]\n",
    "], dtype = np.float64)\n",
    "\n",
    "print(coeficientes)"
   ]
  },
  {
   "cell_type": "markdown",
   "id": "9a09a7a7",
   "metadata": {
    "papermill": {
     "duration": 0.006929,
     "end_time": "2025-01-24T19:43:05.852005",
     "exception": false,
     "start_time": "2025-01-24T19:43:05.845076",
     "status": "completed"
    },
    "tags": []
   },
   "source": [
    "Vamos agora, calcular o determinante desta matriz."
   ]
  },
  {
   "cell_type": "code",
   "execution_count": 2,
   "id": "2373d1f0",
   "metadata": {
    "execution": {
     "iopub.execute_input": "2025-01-24T19:43:05.867498Z",
     "iopub.status.busy": "2025-01-24T19:43:05.867120Z",
     "iopub.status.idle": "2025-01-24T19:43:05.884513Z",
     "shell.execute_reply": "2025-01-24T19:43:05.883275Z"
    },
    "papermill": {
     "duration": 0.027272,
     "end_time": "2025-01-24T19:43:05.886409",
     "exception": false,
     "start_time": "2025-01-24T19:43:05.859137",
     "status": "completed"
    },
    "tags": []
   },
   "outputs": [
    {
     "name": "stdout",
     "output_type": "stream",
     "text": [
      "-87.0\n"
     ]
    }
   ],
   "source": [
    "print(np.linalg.det(coeficientes))"
   ]
  },
  {
   "cell_type": "markdown",
   "id": "5752dedc",
   "metadata": {
    "papermill": {
     "duration": 0.006919,
     "end_time": "2025-01-24T19:43:05.900862",
     "exception": false,
     "start_time": "2025-01-24T19:43:05.893943",
     "status": "completed"
    },
    "tags": []
   },
   "source": [
    "O determinante vale $-87$, isto é, o determinante é diferente de zero. [Como já vimos,](https://www.kaggle.com/code/regisvargas/ci-ncia-de-dados-e-ml-fundamentos-e-aplica-es/edit/run/218992775) quando o determinante dos coeficientes de um sistema linear é diferente de zero, o sistema tem uma única solução.\n",
    "\n",
    "Vamos resolver, passo a passo, este sistema. Vamos rever a matriz de coeficientes."
   ]
  },
  {
   "cell_type": "code",
   "execution_count": 3,
   "id": "29cf59ee",
   "metadata": {
    "execution": {
     "iopub.execute_input": "2025-01-24T19:43:05.917665Z",
     "iopub.status.busy": "2025-01-24T19:43:05.917263Z",
     "iopub.status.idle": "2025-01-24T19:43:05.922150Z",
     "shell.execute_reply": "2025-01-24T19:43:05.921005Z"
    },
    "papermill": {
     "duration": 0.015747,
     "end_time": "2025-01-24T19:43:05.923659",
     "exception": false,
     "start_time": "2025-01-24T19:43:05.907912",
     "status": "completed"
    },
    "tags": []
   },
   "outputs": [
    {
     "name": "stdout",
     "output_type": "stream",
     "text": [
      "[[ 2.  3. -1.]\n",
      " [ 4. -1.  2.]\n",
      " [-1.  5.  3.]]\n"
     ]
    }
   ],
   "source": [
    "print(coeficientes)"
   ]
  },
  {
   "cell_type": "markdown",
   "id": "d53953f8",
   "metadata": {
    "papermill": {
     "duration": 0.006984,
     "end_time": "2025-01-24T19:43:05.937735",
     "exception": false,
     "start_time": "2025-01-24T19:43:05.930751",
     "status": "completed"
    },
    "tags": []
   },
   "source": [
    "Podemos também, gerar a matriz de resultados. Veja abaixo."
   ]
  },
  {
   "cell_type": "code",
   "execution_count": 4,
   "id": "215edf12",
   "metadata": {
    "execution": {
     "iopub.execute_input": "2025-01-24T19:43:05.954099Z",
     "iopub.status.busy": "2025-01-24T19:43:05.953770Z",
     "iopub.status.idle": "2025-01-24T19:43:05.959059Z",
     "shell.execute_reply": "2025-01-24T19:43:05.957929Z"
    },
    "papermill": {
     "duration": 0.015856,
     "end_time": "2025-01-24T19:43:05.960774",
     "exception": false,
     "start_time": "2025-01-24T19:43:05.944918",
     "status": "completed"
    },
    "tags": []
   },
   "outputs": [
    {
     "name": "stdout",
     "output_type": "stream",
     "text": [
      "[[ 5.]\n",
      " [ 6.]\n",
      " [-4.]]\n"
     ]
    }
   ],
   "source": [
    "resultados = np.array([\n",
    "    [5],\n",
    "    [6],\n",
    "    [-4]\n",
    "], dtype = np.float64)\n",
    "print(resultados)"
   ]
  },
  {
   "cell_type": "markdown",
   "id": "a895abf7",
   "metadata": {
    "papermill": {
     "duration": 0.006922,
     "end_time": "2025-01-24T19:43:05.974932",
     "exception": false,
     "start_time": "2025-01-24T19:43:05.968010",
     "status": "completed"
    },
    "tags": []
   },
   "source": [
    "Podemos, agora, através do empilhamento horizontal. Criar a matriz que representa o sistema."
   ]
  },
  {
   "cell_type": "code",
   "execution_count": 5,
   "id": "891615b8",
   "metadata": {
    "execution": {
     "iopub.execute_input": "2025-01-24T19:43:05.990671Z",
     "iopub.status.busy": "2025-01-24T19:43:05.990252Z",
     "iopub.status.idle": "2025-01-24T19:43:05.995678Z",
     "shell.execute_reply": "2025-01-24T19:43:05.994590Z"
    },
    "papermill": {
     "duration": 0.015095,
     "end_time": "2025-01-24T19:43:05.997095",
     "exception": false,
     "start_time": "2025-01-24T19:43:05.982000",
     "status": "completed"
    },
    "tags": []
   },
   "outputs": [
    {
     "name": "stdout",
     "output_type": "stream",
     "text": [
      "[[ 2.  3. -1.  5.]\n",
      " [ 4. -1.  2.  6.]\n",
      " [-1.  5.  3. -4.]]\n"
     ]
    }
   ],
   "source": [
    "sistema = np.hstack((coeficientes, resultados))\n",
    "print(sistema)"
   ]
  },
  {
   "cell_type": "markdown",
   "id": "81109b50",
   "metadata": {
    "papermill": {
     "duration": 0.007129,
     "end_time": "2025-01-24T19:43:06.011806",
     "exception": false,
     "start_time": "2025-01-24T19:43:06.004677",
     "status": "completed"
    },
    "tags": []
   },
   "source": [
    "Como sabemos, o primeiro elemento de um array Numpy tem indice $0$. Então, se quisermos retornar a segunda linha da matriz `sistema`, devemos utilizar `sistema[1]`. Veja abaixo."
   ]
  },
  {
   "cell_type": "code",
   "execution_count": 6,
   "id": "8fe957f7",
   "metadata": {
    "execution": {
     "iopub.execute_input": "2025-01-24T19:43:06.027204Z",
     "iopub.status.busy": "2025-01-24T19:43:06.026844Z",
     "iopub.status.idle": "2025-01-24T19:43:06.032122Z",
     "shell.execute_reply": "2025-01-24T19:43:06.031202Z"
    },
    "papermill": {
     "duration": 0.014603,
     "end_time": "2025-01-24T19:43:06.033453",
     "exception": false,
     "start_time": "2025-01-24T19:43:06.018850",
     "status": "completed"
    },
    "tags": []
   },
   "outputs": [
    {
     "name": "stdout",
     "output_type": "stream",
     "text": [
      "[ 4. -1.  2.  6.]\n"
     ]
    }
   ],
   "source": [
    "print(sistema[1])"
   ]
  },
  {
   "cell_type": "markdown",
   "id": "9b7378a6",
   "metadata": {
    "papermill": {
     "duration": 0.007021,
     "end_time": "2025-01-24T19:43:06.047651",
     "exception": false,
     "start_time": "2025-01-24T19:43:06.040630",
     "status": "completed"
    },
    "tags": []
   },
   "source": [
    "Podemos, agora, dividir a segunda linha da matriz por 2."
   ]
  },
  {
   "cell_type": "code",
   "execution_count": 7,
   "id": "676c01ad",
   "metadata": {
    "execution": {
     "iopub.execute_input": "2025-01-24T19:43:06.063913Z",
     "iopub.status.busy": "2025-01-24T19:43:06.063519Z",
     "iopub.status.idle": "2025-01-24T19:43:06.068445Z",
     "shell.execute_reply": "2025-01-24T19:43:06.067405Z"
    },
    "papermill": {
     "duration": 0.015478,
     "end_time": "2025-01-24T19:43:06.070281",
     "exception": false,
     "start_time": "2025-01-24T19:43:06.054803",
     "status": "completed"
    },
    "tags": []
   },
   "outputs": [
    {
     "name": "stdout",
     "output_type": "stream",
     "text": [
      "[ 2.  -0.5  1.   3. ]\n"
     ]
    }
   ],
   "source": [
    "print(sistema[1]/2)"
   ]
  },
  {
   "cell_type": "markdown",
   "id": "5c8c6eff",
   "metadata": {
    "papermill": {
     "duration": 0.007388,
     "end_time": "2025-01-24T19:43:06.085118",
     "exception": false,
     "start_time": "2025-01-24T19:43:06.077730",
     "status": "completed"
    },
    "tags": []
   },
   "source": [
    "E substrair, deste resultado, a primeira linha da matriz `sistema`."
   ]
  },
  {
   "cell_type": "code",
   "execution_count": 8,
   "id": "ad9cd4f1",
   "metadata": {
    "execution": {
     "iopub.execute_input": "2025-01-24T19:43:06.101113Z",
     "iopub.status.busy": "2025-01-24T19:43:06.100734Z",
     "iopub.status.idle": "2025-01-24T19:43:06.106052Z",
     "shell.execute_reply": "2025-01-24T19:43:06.104951Z"
    },
    "papermill": {
     "duration": 0.01525,
     "end_time": "2025-01-24T19:43:06.107782",
     "exception": false,
     "start_time": "2025-01-24T19:43:06.092532",
     "status": "completed"
    },
    "tags": []
   },
   "outputs": [
    {
     "name": "stdout",
     "output_type": "stream",
     "text": [
      "[ 0.  -3.5  2.  -2. ]\n"
     ]
    }
   ],
   "source": [
    "print((sistema[1]/2)-sistema[0])"
   ]
  },
  {
   "cell_type": "markdown",
   "id": "bf567f8a",
   "metadata": {
    "papermill": {
     "duration": 0.007365,
     "end_time": "2025-01-24T19:43:06.122499",
     "exception": false,
     "start_time": "2025-01-24T19:43:06.115134",
     "status": "completed"
    },
    "tags": []
   },
   "source": [
    "Agora, vamos substituir a segunda linha da matriz `sistema` pela expressão acima."
   ]
  },
  {
   "cell_type": "code",
   "execution_count": 9,
   "id": "4dbae234",
   "metadata": {
    "execution": {
     "iopub.execute_input": "2025-01-24T19:43:06.138528Z",
     "iopub.status.busy": "2025-01-24T19:43:06.138130Z",
     "iopub.status.idle": "2025-01-24T19:43:06.142407Z",
     "shell.execute_reply": "2025-01-24T19:43:06.141469Z"
    },
    "papermill": {
     "duration": 0.014016,
     "end_time": "2025-01-24T19:43:06.143902",
     "exception": false,
     "start_time": "2025-01-24T19:43:06.129886",
     "status": "completed"
    },
    "tags": []
   },
   "outputs": [],
   "source": [
    "sistema[1] = (sistema[1]/2)-sistema[0]"
   ]
  },
  {
   "cell_type": "markdown",
   "id": "6907cb0c",
   "metadata": {
    "papermill": {
     "duration": 0.007092,
     "end_time": "2025-01-24T19:43:06.158433",
     "exception": false,
     "start_time": "2025-01-24T19:43:06.151341",
     "status": "completed"
    },
    "tags": []
   },
   "source": [
    "A nova matriz `sistema` fica:"
   ]
  },
  {
   "cell_type": "code",
   "execution_count": 10,
   "id": "43cde2d5",
   "metadata": {
    "execution": {
     "iopub.execute_input": "2025-01-24T19:43:06.174158Z",
     "iopub.status.busy": "2025-01-24T19:43:06.173820Z",
     "iopub.status.idle": "2025-01-24T19:43:06.178987Z",
     "shell.execute_reply": "2025-01-24T19:43:06.177831Z"
    },
    "papermill": {
     "duration": 0.014724,
     "end_time": "2025-01-24T19:43:06.180390",
     "exception": false,
     "start_time": "2025-01-24T19:43:06.165666",
     "status": "completed"
    },
    "tags": []
   },
   "outputs": [
    {
     "name": "stdout",
     "output_type": "stream",
     "text": [
      "[[ 2.   3.  -1.   5. ]\n",
      " [ 0.  -3.5  2.  -2. ]\n",
      " [-1.   5.   3.  -4. ]]\n"
     ]
    }
   ],
   "source": [
    "print(sistema)"
   ]
  },
  {
   "cell_type": "markdown",
   "id": "d12bfef4",
   "metadata": {
    "papermill": {
     "duration": 0.00707,
     "end_time": "2025-01-24T19:43:06.194705",
     "exception": false,
     "start_time": "2025-01-24T19:43:06.187635",
     "status": "completed"
    },
    "tags": []
   },
   "source": [
    "Multiplicando a terceira linha da matriz `sistema` por $-2$ ficamos com:"
   ]
  },
  {
   "cell_type": "code",
   "execution_count": 11,
   "id": "6a3d6ed3",
   "metadata": {
    "execution": {
     "iopub.execute_input": "2025-01-24T19:43:06.210388Z",
     "iopub.status.busy": "2025-01-24T19:43:06.210015Z",
     "iopub.status.idle": "2025-01-24T19:43:06.215512Z",
     "shell.execute_reply": "2025-01-24T19:43:06.214335Z"
    },
    "papermill": {
     "duration": 0.015351,
     "end_time": "2025-01-24T19:43:06.217192",
     "exception": false,
     "start_time": "2025-01-24T19:43:06.201841",
     "status": "completed"
    },
    "tags": []
   },
   "outputs": [
    {
     "name": "stdout",
     "output_type": "stream",
     "text": [
      "[  2. -10.  -6.   8.]\n"
     ]
    }
   ],
   "source": [
    "print(-2*sistema[2])"
   ]
  },
  {
   "cell_type": "markdown",
   "id": "609bc028",
   "metadata": {
    "papermill": {
     "duration": 0.007229,
     "end_time": "2025-01-24T19:43:06.232002",
     "exception": false,
     "start_time": "2025-01-24T19:43:06.224773",
     "status": "completed"
    },
    "tags": []
   },
   "source": [
    "Subtraindo, deste resultado, a primeira linha temos:"
   ]
  },
  {
   "cell_type": "code",
   "execution_count": 12,
   "id": "6b067d8e",
   "metadata": {
    "execution": {
     "iopub.execute_input": "2025-01-24T19:43:06.248360Z",
     "iopub.status.busy": "2025-01-24T19:43:06.247915Z",
     "iopub.status.idle": "2025-01-24T19:43:06.253443Z",
     "shell.execute_reply": "2025-01-24T19:43:06.252362Z"
    },
    "papermill": {
     "duration": 0.015609,
     "end_time": "2025-01-24T19:43:06.254997",
     "exception": false,
     "start_time": "2025-01-24T19:43:06.239388",
     "status": "completed"
    },
    "tags": []
   },
   "outputs": [
    {
     "name": "stdout",
     "output_type": "stream",
     "text": [
      "[  0. -13.  -5.   3.]\n"
     ]
    }
   ],
   "source": [
    "print(-2*sistema[2]-sistema[0])"
   ]
  },
  {
   "cell_type": "markdown",
   "id": "9ff81a59",
   "metadata": {
    "papermill": {
     "duration": 0.007144,
     "end_time": "2025-01-24T19:43:06.269724",
     "exception": false,
     "start_time": "2025-01-24T19:43:06.262580",
     "status": "completed"
    },
    "tags": []
   },
   "source": [
    "Substituindo a terceira linha por esta nova linha, temos:"
   ]
  },
  {
   "cell_type": "code",
   "execution_count": 13,
   "id": "0684ab0b",
   "metadata": {
    "execution": {
     "iopub.execute_input": "2025-01-24T19:43:06.285877Z",
     "iopub.status.busy": "2025-01-24T19:43:06.285444Z",
     "iopub.status.idle": "2025-01-24T19:43:06.289860Z",
     "shell.execute_reply": "2025-01-24T19:43:06.288977Z"
    },
    "papermill": {
     "duration": 0.014411,
     "end_time": "2025-01-24T19:43:06.291467",
     "exception": false,
     "start_time": "2025-01-24T19:43:06.277056",
     "status": "completed"
    },
    "tags": []
   },
   "outputs": [],
   "source": [
    "sistema[2] = -2*sistema[2]-sistema[0]"
   ]
  },
  {
   "cell_type": "markdown",
   "id": "4071cff8",
   "metadata": {
    "papermill": {
     "duration": 0.007373,
     "end_time": "2025-01-24T19:43:06.306355",
     "exception": false,
     "start_time": "2025-01-24T19:43:06.298982",
     "status": "completed"
    },
    "tags": []
   },
   "source": [
    "E a nova matriz `sistema` fica dada por:"
   ]
  },
  {
   "cell_type": "code",
   "execution_count": 14,
   "id": "3643252c",
   "metadata": {
    "execution": {
     "iopub.execute_input": "2025-01-24T19:43:06.322504Z",
     "iopub.status.busy": "2025-01-24T19:43:06.322117Z",
     "iopub.status.idle": "2025-01-24T19:43:06.327700Z",
     "shell.execute_reply": "2025-01-24T19:43:06.326737Z"
    },
    "papermill": {
     "duration": 0.015639,
     "end_time": "2025-01-24T19:43:06.329366",
     "exception": false,
     "start_time": "2025-01-24T19:43:06.313727",
     "status": "completed"
    },
    "tags": []
   },
   "outputs": [
    {
     "name": "stdout",
     "output_type": "stream",
     "text": [
      "[[  2.    3.   -1.    5. ]\n",
      " [  0.   -3.5   2.   -2. ]\n",
      " [  0.  -13.   -5.    3. ]]\n"
     ]
    }
   ],
   "source": [
    "print(sistema)"
   ]
  },
  {
   "cell_type": "markdown",
   "id": "09c9aae5",
   "metadata": {
    "papermill": {
     "duration": 0.007598,
     "end_time": "2025-01-24T19:43:06.344645",
     "exception": false,
     "start_time": "2025-01-24T19:43:06.337047",
     "status": "completed"
    },
    "tags": []
   },
   "source": [
    "Multiplicando a terceira linha da matriz `sistema` por $\\frac{-3.5}{-13}$, temos:"
   ]
  },
  {
   "cell_type": "code",
   "execution_count": 15,
   "id": "ba83faf5",
   "metadata": {
    "execution": {
     "iopub.execute_input": "2025-01-24T19:43:06.361068Z",
     "iopub.status.busy": "2025-01-24T19:43:06.360737Z",
     "iopub.status.idle": "2025-01-24T19:43:06.366337Z",
     "shell.execute_reply": "2025-01-24T19:43:06.365071Z"
    },
    "papermill": {
     "duration": 0.016003,
     "end_time": "2025-01-24T19:43:06.368087",
     "exception": false,
     "start_time": "2025-01-24T19:43:06.352084",
     "status": "completed"
    },
    "tags": []
   },
   "outputs": [
    {
     "name": "stdout",
     "output_type": "stream",
     "text": [
      "[ 0.         -3.5        -1.34615385  0.80769231]\n"
     ]
    }
   ],
   "source": [
    "print((-3.5/-13)*sistema[2])"
   ]
  },
  {
   "cell_type": "markdown",
   "id": "b45685a4",
   "metadata": {
    "papermill": {
     "duration": 0.007508,
     "end_time": "2025-01-24T19:43:06.383310",
     "exception": false,
     "start_time": "2025-01-24T19:43:06.375802",
     "status": "completed"
    },
    "tags": []
   },
   "source": [
    "Subtraindo, deste resultado, a segunda linha, temos:"
   ]
  },
  {
   "cell_type": "code",
   "execution_count": 16,
   "id": "b4d2c997",
   "metadata": {
    "execution": {
     "iopub.execute_input": "2025-01-24T19:43:06.399652Z",
     "iopub.status.busy": "2025-01-24T19:43:06.399249Z",
     "iopub.status.idle": "2025-01-24T19:43:06.404952Z",
     "shell.execute_reply": "2025-01-24T19:43:06.403520Z"
    },
    "papermill": {
     "duration": 0.015868,
     "end_time": "2025-01-24T19:43:06.406637",
     "exception": false,
     "start_time": "2025-01-24T19:43:06.390769",
     "status": "completed"
    },
    "tags": []
   },
   "outputs": [
    {
     "name": "stdout",
     "output_type": "stream",
     "text": [
      "[ 0.          0.         -3.34615385  2.80769231]\n"
     ]
    }
   ],
   "source": [
    "print((-3.5/-13)*sistema[2]-sistema[1])"
   ]
  },
  {
   "cell_type": "markdown",
   "id": "d5b66572",
   "metadata": {
    "papermill": {
     "duration": 0.007811,
     "end_time": "2025-01-24T19:43:06.422429",
     "exception": false,
     "start_time": "2025-01-24T19:43:06.414618",
     "status": "completed"
    },
    "tags": []
   },
   "source": [
    "Fazendo a substituição, na matriz `sistema\", da terceira linha pela linha acima, temos:"
   ]
  },
  {
   "cell_type": "code",
   "execution_count": 17,
   "id": "03b512de",
   "metadata": {
    "execution": {
     "iopub.execute_input": "2025-01-24T19:43:06.439084Z",
     "iopub.status.busy": "2025-01-24T19:43:06.438767Z",
     "iopub.status.idle": "2025-01-24T19:43:06.443822Z",
     "shell.execute_reply": "2025-01-24T19:43:06.442747Z"
    },
    "papermill": {
     "duration": 0.015116,
     "end_time": "2025-01-24T19:43:06.445335",
     "exception": false,
     "start_time": "2025-01-24T19:43:06.430219",
     "status": "completed"
    },
    "tags": []
   },
   "outputs": [
    {
     "name": "stdout",
     "output_type": "stream",
     "text": [
      "[[ 2.          3.         -1.          5.        ]\n",
      " [ 0.         -3.5         2.         -2.        ]\n",
      " [ 0.          0.         -3.34615385  2.80769231]]\n"
     ]
    }
   ],
   "source": [
    "sistema[2] = (-3.5/-13)*sistema[2]-sistema[1]\n",
    "\n",
    "print(sistema)"
   ]
  },
  {
   "cell_type": "markdown",
   "id": "476462df",
   "metadata": {
    "papermill": {
     "duration": 0.007458,
     "end_time": "2025-01-24T19:43:06.460371",
     "exception": false,
     "start_time": "2025-01-24T19:43:06.452913",
     "status": "completed"
    },
    "tags": []
   },
   "source": [
    "Assim, o sistema inicial foi reescrito como:\n",
    "\n",
    "$$\n",
    "\\begin{cases}\n",
    "2x + 3y - z &= 5 \\\\\n",
    "0x - 3.5y + 2z &= -2 \\\\\n",
    "0x + 0y - 3.34615385z &= 2.80769231\n",
    "\\end{cases}\n",
    "$$"
   ]
  },
  {
   "cell_type": "markdown",
   "id": "a86cc510",
   "metadata": {
    "papermill": {
     "duration": 0.007429,
     "end_time": "2025-01-24T19:43:06.475432",
     "exception": false,
     "start_time": "2025-01-24T19:43:06.468003",
     "status": "completed"
    },
    "tags": []
   },
   "source": [
    "Assim, o valor de $z$ é:"
   ]
  },
  {
   "cell_type": "code",
   "execution_count": 18,
   "id": "080078cd",
   "metadata": {
    "execution": {
     "iopub.execute_input": "2025-01-24T19:43:06.491941Z",
     "iopub.status.busy": "2025-01-24T19:43:06.491583Z",
     "iopub.status.idle": "2025-01-24T19:43:06.496756Z",
     "shell.execute_reply": "2025-01-24T19:43:06.495663Z"
    },
    "papermill": {
     "duration": 0.015333,
     "end_time": "2025-01-24T19:43:06.498408",
     "exception": false,
     "start_time": "2025-01-24T19:43:06.483075",
     "status": "completed"
    },
    "tags": []
   },
   "outputs": [
    {
     "name": "stdout",
     "output_type": "stream",
     "text": [
      "-0.83908045949531\n"
     ]
    }
   ],
   "source": [
    "z = 2.80769231/(-3.34615385)\n",
    "print(z)"
   ]
  },
  {
   "cell_type": "markdown",
   "id": "46577876",
   "metadata": {
    "papermill": {
     "duration": 0.007322,
     "end_time": "2025-01-24T19:43:06.513546",
     "exception": false,
     "start_time": "2025-01-24T19:43:06.506224",
     "status": "completed"
    },
    "tags": []
   },
   "source": [
    "Tendo o valor de $z$, calculamos o valor de $y$, por:"
   ]
  },
  {
   "cell_type": "code",
   "execution_count": 19,
   "id": "79076790",
   "metadata": {
    "execution": {
     "iopub.execute_input": "2025-01-24T19:43:06.529979Z",
     "iopub.status.busy": "2025-01-24T19:43:06.529561Z",
     "iopub.status.idle": "2025-01-24T19:43:06.534597Z",
     "shell.execute_reply": "2025-01-24T19:43:06.533663Z"
    },
    "papermill": {
     "duration": 0.015053,
     "end_time": "2025-01-24T19:43:06.536117",
     "exception": false,
     "start_time": "2025-01-24T19:43:06.521064",
     "status": "completed"
    },
    "tags": []
   },
   "outputs": [
    {
     "name": "stdout",
     "output_type": "stream",
     "text": [
      "0.09195402314553716\n"
     ]
    }
   ],
   "source": [
    "y = (-2-2*z)/(-3.5)\n",
    "print(y)"
   ]
  },
  {
   "cell_type": "markdown",
   "id": "21098119",
   "metadata": {
    "papermill": {
     "duration": 0.007844,
     "end_time": "2025-01-24T19:43:06.552001",
     "exception": false,
     "start_time": "2025-01-24T19:43:06.544157",
     "status": "completed"
    },
    "tags": []
   },
   "source": [
    "Tendo o valor de $z$ e de $y$, calculamos $x$ por:"
   ]
  },
  {
   "cell_type": "code",
   "execution_count": 20,
   "id": "6d523d4f",
   "metadata": {
    "execution": {
     "iopub.execute_input": "2025-01-24T19:43:06.568554Z",
     "iopub.status.busy": "2025-01-24T19:43:06.568156Z",
     "iopub.status.idle": "2025-01-24T19:43:06.572494Z",
     "shell.execute_reply": "2025-01-24T19:43:06.571551Z"
    },
    "papermill": {
     "duration": 0.014506,
     "end_time": "2025-01-24T19:43:06.574088",
     "exception": false,
     "start_time": "2025-01-24T19:43:06.559582",
     "status": "completed"
    },
    "tags": []
   },
   "outputs": [
    {
     "name": "stdout",
     "output_type": "stream",
     "text": [
      "1.942528735534039\n"
     ]
    }
   ],
   "source": [
    "x = (5+z-3*y)/2\n",
    "print(x)"
   ]
  },
  {
   "cell_type": "markdown",
   "id": "594c56b2",
   "metadata": {
    "papermill": {
     "duration": 0.00753,
     "end_time": "2025-01-24T19:43:06.589555",
     "exception": false,
     "start_time": "2025-01-24T19:43:06.582025",
     "status": "completed"
    },
    "tags": []
   },
   "source": [
    "Então, a solução para o sistema apresentado no início do notebook é $(1.942528735534039; 0.09195402314553716; -0.83908045949531)$. O que converge com o resultado encontrado pela função `np.linalg.solve`. Veja abaixo."
   ]
  },
  {
   "cell_type": "code",
   "execution_count": 21,
   "id": "e404ce0f",
   "metadata": {
    "execution": {
     "iopub.execute_input": "2025-01-24T19:43:06.606271Z",
     "iopub.status.busy": "2025-01-24T19:43:06.605895Z",
     "iopub.status.idle": "2025-01-24T19:43:06.616883Z",
     "shell.execute_reply": "2025-01-24T19:43:06.615793Z"
    },
    "papermill": {
     "duration": 0.021085,
     "end_time": "2025-01-24T19:43:06.618414",
     "exception": false,
     "start_time": "2025-01-24T19:43:06.597329",
     "status": "completed"
    },
    "tags": []
   },
   "outputs": [
    {
     "name": "stdout",
     "output_type": "stream",
     "text": [
      "[[ 1.94252874]\n",
      " [ 0.09195402]\n",
      " [-0.83908046]]\n"
     ]
    }
   ],
   "source": [
    "print(np.linalg.solve(coeficientes, resultados))"
   ]
  }
 ],
 "metadata": {
  "kaggle": {
   "accelerator": "none",
   "dataSources": [],
   "dockerImageVersionId": 30839,
   "isGpuEnabled": false,
   "isInternetEnabled": true,
   "language": "python",
   "sourceType": "notebook"
  },
  "kernelspec": {
   "display_name": "Python 3",
   "language": "python",
   "name": "python3"
  },
  "language_info": {
   "codemirror_mode": {
    "name": "ipython",
    "version": 3
   },
   "file_extension": ".py",
   "mimetype": "text/x-python",
   "name": "python",
   "nbconvert_exporter": "python",
   "pygments_lexer": "ipython3",
   "version": "3.10.12"
  },
  "papermill": {
   "default_parameters": {},
   "duration": 3.95465,
   "end_time": "2025-01-24T19:43:07.046201",
   "environment_variables": {},
   "exception": null,
   "input_path": "__notebook__.ipynb",
   "output_path": "__notebook__.ipynb",
   "parameters": {},
   "start_time": "2025-01-24T19:43:03.091551",
   "version": "2.6.0"
  }
 },
 "nbformat": 4,
 "nbformat_minor": 5
}
