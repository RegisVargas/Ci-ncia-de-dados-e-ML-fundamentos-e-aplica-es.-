{
 "cells": [
  {
   "cell_type": "markdown",
   "id": "1eb096aa",
   "metadata": {
    "papermill": {
     "duration": 0.009082,
     "end_time": "2025-01-24T19:47:26.033729",
     "exception": false,
     "start_time": "2025-01-24T19:47:26.024647",
     "status": "completed"
    },
    "tags": []
   },
   "source": [
    "# Resolução de um sistema linear a 3 incógnitas - Parte 1\n",
    "\n",
    "Este notebook faz parte do projeto [Ciência de dados e ML: fundamentos e aplicações.](https://www.kaggle.com/code/regisvargas/ci-ncia-de-dados-e-ml-fundamentos-e-aplica-es)\n",
    "\n",
    "Neste notebook, iremos abordar o seguinte sistema de equações a 3 incógnitas.\n",
    "\n",
    "$$\n",
    "\\begin{cases}\n",
    "2x + 3y - z &= 5 \\\\\n",
    "4x - y + 2z &= 6 \\\\\n",
    "-x + 5y + 3z &= -4\n",
    "\\end{cases}\n",
    "$$"
   ]
  },
  {
   "cell_type": "markdown",
   "id": "b515f4e8",
   "metadata": {
    "papermill": {
     "duration": 0.006773,
     "end_time": "2025-01-24T19:47:26.047812",
     "exception": false,
     "start_time": "2025-01-24T19:47:26.041039",
     "status": "completed"
    },
    "tags": []
   },
   "source": [
    "A matriz de coeficientes para este sistema é dada por:"
   ]
  },
  {
   "cell_type": "code",
   "execution_count": 1,
   "id": "30f8d80d",
   "metadata": {
    "execution": {
     "iopub.execute_input": "2025-01-24T19:47:26.063400Z",
     "iopub.status.busy": "2025-01-24T19:47:26.063035Z",
     "iopub.status.idle": "2025-01-24T19:47:26.070322Z",
     "shell.execute_reply": "2025-01-24T19:47:26.069376Z"
    },
    "papermill": {
     "duration": 0.017128,
     "end_time": "2025-01-24T19:47:26.072075",
     "exception": false,
     "start_time": "2025-01-24T19:47:26.054947",
     "status": "completed"
    },
    "tags": []
   },
   "outputs": [
    {
     "name": "stdout",
     "output_type": "stream",
     "text": [
      "[[ 2.  3. -1.]\n",
      " [ 4. -1.  2.]\n",
      " [-1.  5.  3.]]\n"
     ]
    }
   ],
   "source": [
    "import numpy as np\n",
    "\n",
    "coeficientes = np.array([\n",
    "    [2,3,-1],\n",
    "    [4,-1,2],\n",
    "    [-1,5,3]\n",
    "], dtype = np.float64)\n",
    "\n",
    "print(coeficientes)"
   ]
  },
  {
   "cell_type": "markdown",
   "id": "513dc53b",
   "metadata": {
    "papermill": {
     "duration": 0.006975,
     "end_time": "2025-01-24T19:47:26.086389",
     "exception": false,
     "start_time": "2025-01-24T19:47:26.079414",
     "status": "completed"
    },
    "tags": []
   },
   "source": [
    "Vamos agora, calcular o determinante desta matriz."
   ]
  },
  {
   "cell_type": "code",
   "execution_count": 2,
   "id": "567b0d63",
   "metadata": {
    "execution": {
     "iopub.execute_input": "2025-01-24T19:47:26.103711Z",
     "iopub.status.busy": "2025-01-24T19:47:26.103374Z",
     "iopub.status.idle": "2025-01-24T19:47:26.123253Z",
     "shell.execute_reply": "2025-01-24T19:47:26.121803Z"
    },
    "papermill": {
     "duration": 0.030834,
     "end_time": "2025-01-24T19:47:26.124902",
     "exception": false,
     "start_time": "2025-01-24T19:47:26.094068",
     "status": "completed"
    },
    "tags": []
   },
   "outputs": [
    {
     "name": "stdout",
     "output_type": "stream",
     "text": [
      "-87.0\n"
     ]
    }
   ],
   "source": [
    "print(np.linalg.det(coeficientes))"
   ]
  },
  {
   "cell_type": "markdown",
   "id": "a1e45392",
   "metadata": {
    "papermill": {
     "duration": 0.006997,
     "end_time": "2025-01-24T19:47:26.139696",
     "exception": false,
     "start_time": "2025-01-24T19:47:26.132699",
     "status": "completed"
    },
    "tags": []
   },
   "source": [
    "O determinante vale $-87$, isto é, o determinante é diferente de zero. [Como já vimos,](https://www.kaggle.com/code/regisvargas/ci-ncia-de-dados-e-ml-fundamentos-e-aplica-es/edit/run/218992775) quando o determinante dos coeficientes de um sistema linear é diferente de zero, o sistema tem uma única solução.\n",
    "\n",
    "Vamos resolver, passo a passo, este sistema. Vamos rever a matriz de coeficientes."
   ]
  },
  {
   "cell_type": "code",
   "execution_count": 3,
   "id": "ca7a5b61",
   "metadata": {
    "execution": {
     "iopub.execute_input": "2025-01-24T19:47:26.155640Z",
     "iopub.status.busy": "2025-01-24T19:47:26.155309Z",
     "iopub.status.idle": "2025-01-24T19:47:26.160335Z",
     "shell.execute_reply": "2025-01-24T19:47:26.159133Z"
    },
    "papermill": {
     "duration": 0.014836,
     "end_time": "2025-01-24T19:47:26.161924",
     "exception": false,
     "start_time": "2025-01-24T19:47:26.147088",
     "status": "completed"
    },
    "tags": []
   },
   "outputs": [
    {
     "name": "stdout",
     "output_type": "stream",
     "text": [
      "[[ 2.  3. -1.]\n",
      " [ 4. -1.  2.]\n",
      " [-1.  5.  3.]]\n"
     ]
    }
   ],
   "source": [
    "print(coeficientes)"
   ]
  },
  {
   "cell_type": "markdown",
   "id": "94b104e4",
   "metadata": {
    "papermill": {
     "duration": 0.007189,
     "end_time": "2025-01-24T19:47:26.176464",
     "exception": false,
     "start_time": "2025-01-24T19:47:26.169275",
     "status": "completed"
    },
    "tags": []
   },
   "source": [
    "Podemos também, gerar a matriz de resultados. Veja abaixo."
   ]
  },
  {
   "cell_type": "code",
   "execution_count": 4,
   "id": "d2d74bba",
   "metadata": {
    "execution": {
     "iopub.execute_input": "2025-01-24T19:47:26.192825Z",
     "iopub.status.busy": "2025-01-24T19:47:26.192377Z",
     "iopub.status.idle": "2025-01-24T19:47:26.198041Z",
     "shell.execute_reply": "2025-01-24T19:47:26.196832Z"
    },
    "papermill": {
     "duration": 0.015878,
     "end_time": "2025-01-24T19:47:26.199817",
     "exception": false,
     "start_time": "2025-01-24T19:47:26.183939",
     "status": "completed"
    },
    "tags": []
   },
   "outputs": [
    {
     "name": "stdout",
     "output_type": "stream",
     "text": [
      "[[ 5.]\n",
      " [ 6.]\n",
      " [-4.]]\n"
     ]
    }
   ],
   "source": [
    "resultados = np.array([\n",
    "    [5],\n",
    "    [6],\n",
    "    [-4]\n",
    "], dtype = np.float64)\n",
    "print(resultados)"
   ]
  },
  {
   "cell_type": "markdown",
   "id": "6c910c31",
   "metadata": {
    "papermill": {
     "duration": 0.007128,
     "end_time": "2025-01-24T19:47:26.214940",
     "exception": false,
     "start_time": "2025-01-24T19:47:26.207812",
     "status": "completed"
    },
    "tags": []
   },
   "source": [
    "Podemos, agora, através do empilhamento horizontal. Criar a matriz que representa o sistema."
   ]
  },
  {
   "cell_type": "code",
   "execution_count": 5,
   "id": "0445e5fe",
   "metadata": {
    "execution": {
     "iopub.execute_input": "2025-01-24T19:47:26.230788Z",
     "iopub.status.busy": "2025-01-24T19:47:26.230418Z",
     "iopub.status.idle": "2025-01-24T19:47:26.235366Z",
     "shell.execute_reply": "2025-01-24T19:47:26.234358Z"
    },
    "papermill": {
     "duration": 0.01478,
     "end_time": "2025-01-24T19:47:26.236984",
     "exception": false,
     "start_time": "2025-01-24T19:47:26.222204",
     "status": "completed"
    },
    "tags": []
   },
   "outputs": [
    {
     "name": "stdout",
     "output_type": "stream",
     "text": [
      "[[ 2.  3. -1.  5.]\n",
      " [ 4. -1.  2.  6.]\n",
      " [-1.  5.  3. -4.]]\n"
     ]
    }
   ],
   "source": [
    "sistema = np.hstack((coeficientes, resultados))\n",
    "print(sistema)"
   ]
  },
  {
   "cell_type": "markdown",
   "id": "f1d96420",
   "metadata": {
    "papermill": {
     "duration": 0.007014,
     "end_time": "2025-01-24T19:47:26.251452",
     "exception": false,
     "start_time": "2025-01-24T19:47:26.244438",
     "status": "completed"
    },
    "tags": []
   },
   "source": [
    "Como sabemos, o primeiro elemento de um array Numpy tem indice $0$. Então, se quisermos retornar a segunda linha da matriz `sistema`, devemos utilizar `sistema[1]`. Veja abaixo."
   ]
  },
  {
   "cell_type": "code",
   "execution_count": 6,
   "id": "8d94d682",
   "metadata": {
    "execution": {
     "iopub.execute_input": "2025-01-24T19:47:26.267386Z",
     "iopub.status.busy": "2025-01-24T19:47:26.267045Z",
     "iopub.status.idle": "2025-01-24T19:47:26.272574Z",
     "shell.execute_reply": "2025-01-24T19:47:26.271372Z"
    },
    "papermill": {
     "duration": 0.015383,
     "end_time": "2025-01-24T19:47:26.274243",
     "exception": false,
     "start_time": "2025-01-24T19:47:26.258860",
     "status": "completed"
    },
    "tags": []
   },
   "outputs": [
    {
     "name": "stdout",
     "output_type": "stream",
     "text": [
      "[ 4. -1.  2.  6.]\n"
     ]
    }
   ],
   "source": [
    "print(sistema[1])"
   ]
  },
  {
   "cell_type": "markdown",
   "id": "7c1ccd68",
   "metadata": {
    "papermill": {
     "duration": 0.007205,
     "end_time": "2025-01-24T19:47:26.289298",
     "exception": false,
     "start_time": "2025-01-24T19:47:26.282093",
     "status": "completed"
    },
    "tags": []
   },
   "source": [
    "Podemos, agora, dividir a segunda linha da matriz por 2."
   ]
  },
  {
   "cell_type": "code",
   "execution_count": 7,
   "id": "f1bca8b1",
   "metadata": {
    "execution": {
     "iopub.execute_input": "2025-01-24T19:47:26.305386Z",
     "iopub.status.busy": "2025-01-24T19:47:26.305049Z",
     "iopub.status.idle": "2025-01-24T19:47:26.309894Z",
     "shell.execute_reply": "2025-01-24T19:47:26.308702Z"
    },
    "papermill": {
     "duration": 0.01503,
     "end_time": "2025-01-24T19:47:26.311654",
     "exception": false,
     "start_time": "2025-01-24T19:47:26.296624",
     "status": "completed"
    },
    "tags": []
   },
   "outputs": [
    {
     "name": "stdout",
     "output_type": "stream",
     "text": [
      "[ 2.  -0.5  1.   3. ]\n"
     ]
    }
   ],
   "source": [
    "print(sistema[1]/2)"
   ]
  },
  {
   "cell_type": "markdown",
   "id": "b62f9abc",
   "metadata": {
    "papermill": {
     "duration": 0.007535,
     "end_time": "2025-01-24T19:47:26.327159",
     "exception": false,
     "start_time": "2025-01-24T19:47:26.319624",
     "status": "completed"
    },
    "tags": []
   },
   "source": [
    "E substrair, deste resultado, a primeira linha da matriz `sistema`."
   ]
  },
  {
   "cell_type": "code",
   "execution_count": 8,
   "id": "9b0d9709",
   "metadata": {
    "execution": {
     "iopub.execute_input": "2025-01-24T19:47:26.343192Z",
     "iopub.status.busy": "2025-01-24T19:47:26.342865Z",
     "iopub.status.idle": "2025-01-24T19:47:26.348904Z",
     "shell.execute_reply": "2025-01-24T19:47:26.347742Z"
    },
    "papermill": {
     "duration": 0.015933,
     "end_time": "2025-01-24T19:47:26.350545",
     "exception": false,
     "start_time": "2025-01-24T19:47:26.334612",
     "status": "completed"
    },
    "tags": []
   },
   "outputs": [
    {
     "name": "stdout",
     "output_type": "stream",
     "text": [
      "[ 0.  -3.5  2.  -2. ]\n"
     ]
    }
   ],
   "source": [
    "print((sistema[1]/2)-sistema[0])"
   ]
  },
  {
   "cell_type": "markdown",
   "id": "92404a76",
   "metadata": {
    "papermill": {
     "duration": 0.007275,
     "end_time": "2025-01-24T19:47:26.365440",
     "exception": false,
     "start_time": "2025-01-24T19:47:26.358165",
     "status": "completed"
    },
    "tags": []
   },
   "source": [
    "Agora, vamos substituir a segunda linha da matriz `sistema` pela expressão acima."
   ]
  },
  {
   "cell_type": "code",
   "execution_count": 9,
   "id": "821038f2",
   "metadata": {
    "execution": {
     "iopub.execute_input": "2025-01-24T19:47:26.381980Z",
     "iopub.status.busy": "2025-01-24T19:47:26.381618Z",
     "iopub.status.idle": "2025-01-24T19:47:26.385967Z",
     "shell.execute_reply": "2025-01-24T19:47:26.385013Z"
    },
    "papermill": {
     "duration": 0.01461,
     "end_time": "2025-01-24T19:47:26.387581",
     "exception": false,
     "start_time": "2025-01-24T19:47:26.372971",
     "status": "completed"
    },
    "tags": []
   },
   "outputs": [],
   "source": [
    "sistema[1] = (sistema[1]/2)-sistema[0]"
   ]
  },
  {
   "cell_type": "markdown",
   "id": "86c58815",
   "metadata": {
    "papermill": {
     "duration": 0.007433,
     "end_time": "2025-01-24T19:47:26.402654",
     "exception": false,
     "start_time": "2025-01-24T19:47:26.395221",
     "status": "completed"
    },
    "tags": []
   },
   "source": [
    "A nova matriz `sistema` fica:"
   ]
  },
  {
   "cell_type": "code",
   "execution_count": 10,
   "id": "1ad2f379",
   "metadata": {
    "execution": {
     "iopub.execute_input": "2025-01-24T19:47:26.418703Z",
     "iopub.status.busy": "2025-01-24T19:47:26.418353Z",
     "iopub.status.idle": "2025-01-24T19:47:26.423666Z",
     "shell.execute_reply": "2025-01-24T19:47:26.422496Z"
    },
    "papermill": {
     "duration": 0.015283,
     "end_time": "2025-01-24T19:47:26.425347",
     "exception": false,
     "start_time": "2025-01-24T19:47:26.410064",
     "status": "completed"
    },
    "tags": []
   },
   "outputs": [
    {
     "name": "stdout",
     "output_type": "stream",
     "text": [
      "[[ 2.   3.  -1.   5. ]\n",
      " [ 0.  -3.5  2.  -2. ]\n",
      " [-1.   5.   3.  -4. ]]\n"
     ]
    }
   ],
   "source": [
    "print(sistema)"
   ]
  },
  {
   "cell_type": "markdown",
   "id": "66f1464f",
   "metadata": {
    "papermill": {
     "duration": 0.007365,
     "end_time": "2025-01-24T19:47:26.440455",
     "exception": false,
     "start_time": "2025-01-24T19:47:26.433090",
     "status": "completed"
    },
    "tags": []
   },
   "source": [
    "Multiplicando a terceira linha da matriz `sistema` por $-2$ ficamos com:"
   ]
  },
  {
   "cell_type": "code",
   "execution_count": 11,
   "id": "8414c4d3",
   "metadata": {
    "execution": {
     "iopub.execute_input": "2025-01-24T19:47:26.457025Z",
     "iopub.status.busy": "2025-01-24T19:47:26.456643Z",
     "iopub.status.idle": "2025-01-24T19:47:26.461988Z",
     "shell.execute_reply": "2025-01-24T19:47:26.460892Z"
    },
    "papermill": {
     "duration": 0.015542,
     "end_time": "2025-01-24T19:47:26.463611",
     "exception": false,
     "start_time": "2025-01-24T19:47:26.448069",
     "status": "completed"
    },
    "tags": []
   },
   "outputs": [
    {
     "name": "stdout",
     "output_type": "stream",
     "text": [
      "[  2. -10.  -6.   8.]\n"
     ]
    }
   ],
   "source": [
    "print(-2*sistema[2])"
   ]
  },
  {
   "cell_type": "markdown",
   "id": "7f03c45c",
   "metadata": {
    "papermill": {
     "duration": 0.007616,
     "end_time": "2025-01-24T19:47:26.479425",
     "exception": false,
     "start_time": "2025-01-24T19:47:26.471809",
     "status": "completed"
    },
    "tags": []
   },
   "source": [
    "Subtraindo, deste resultado, a primeira linha temos:"
   ]
  },
  {
   "cell_type": "code",
   "execution_count": 12,
   "id": "52d2cd8d",
   "metadata": {
    "execution": {
     "iopub.execute_input": "2025-01-24T19:47:26.496056Z",
     "iopub.status.busy": "2025-01-24T19:47:26.495629Z",
     "iopub.status.idle": "2025-01-24T19:47:26.501097Z",
     "shell.execute_reply": "2025-01-24T19:47:26.499968Z"
    },
    "papermill": {
     "duration": 0.015481,
     "end_time": "2025-01-24T19:47:26.502556",
     "exception": false,
     "start_time": "2025-01-24T19:47:26.487075",
     "status": "completed"
    },
    "tags": []
   },
   "outputs": [
    {
     "name": "stdout",
     "output_type": "stream",
     "text": [
      "[  0. -13.  -5.   3.]\n"
     ]
    }
   ],
   "source": [
    "print(-2*sistema[2]-sistema[0])"
   ]
  },
  {
   "cell_type": "markdown",
   "id": "18bb9ca3",
   "metadata": {
    "papermill": {
     "duration": 0.007729,
     "end_time": "2025-01-24T19:47:26.518287",
     "exception": false,
     "start_time": "2025-01-24T19:47:26.510558",
     "status": "completed"
    },
    "tags": []
   },
   "source": [
    "Substituindo a terceira linha por esta nova linha, temos:"
   ]
  },
  {
   "cell_type": "code",
   "execution_count": 13,
   "id": "485ef58b",
   "metadata": {
    "execution": {
     "iopub.execute_input": "2025-01-24T19:47:26.535317Z",
     "iopub.status.busy": "2025-01-24T19:47:26.534954Z",
     "iopub.status.idle": "2025-01-24T19:47:26.539521Z",
     "shell.execute_reply": "2025-01-24T19:47:26.538385Z"
    },
    "papermill": {
     "duration": 0.015219,
     "end_time": "2025-01-24T19:47:26.541350",
     "exception": false,
     "start_time": "2025-01-24T19:47:26.526131",
     "status": "completed"
    },
    "tags": []
   },
   "outputs": [],
   "source": [
    "sistema[2] = -2*sistema[2]-sistema[0]"
   ]
  },
  {
   "cell_type": "markdown",
   "id": "3b9c20a1",
   "metadata": {
    "papermill": {
     "duration": 0.007684,
     "end_time": "2025-01-24T19:47:26.557003",
     "exception": false,
     "start_time": "2025-01-24T19:47:26.549319",
     "status": "completed"
    },
    "tags": []
   },
   "source": [
    "E a nova matriz `sistema` fica dada por:"
   ]
  },
  {
   "cell_type": "code",
   "execution_count": 14,
   "id": "65496c84",
   "metadata": {
    "execution": {
     "iopub.execute_input": "2025-01-24T19:47:26.574544Z",
     "iopub.status.busy": "2025-01-24T19:47:26.574179Z",
     "iopub.status.idle": "2025-01-24T19:47:26.579561Z",
     "shell.execute_reply": "2025-01-24T19:47:26.578610Z"
    },
    "papermill": {
     "duration": 0.015805,
     "end_time": "2025-01-24T19:47:26.581178",
     "exception": false,
     "start_time": "2025-01-24T19:47:26.565373",
     "status": "completed"
    },
    "tags": []
   },
   "outputs": [
    {
     "name": "stdout",
     "output_type": "stream",
     "text": [
      "[[  2.    3.   -1.    5. ]\n",
      " [  0.   -3.5   2.   -2. ]\n",
      " [  0.  -13.   -5.    3. ]]\n"
     ]
    }
   ],
   "source": [
    "print(sistema)"
   ]
  },
  {
   "cell_type": "markdown",
   "id": "7c9efabc",
   "metadata": {
    "papermill": {
     "duration": 0.007781,
     "end_time": "2025-01-24T19:47:26.597143",
     "exception": false,
     "start_time": "2025-01-24T19:47:26.589362",
     "status": "completed"
    },
    "tags": []
   },
   "source": [
    "Multiplicando a terceira linha da matriz `sistema` por $\\frac{-3.5}{-13}$, temos:"
   ]
  },
  {
   "cell_type": "code",
   "execution_count": 15,
   "id": "e10bb817",
   "metadata": {
    "execution": {
     "iopub.execute_input": "2025-01-24T19:47:26.614395Z",
     "iopub.status.busy": "2025-01-24T19:47:26.613995Z",
     "iopub.status.idle": "2025-01-24T19:47:26.620035Z",
     "shell.execute_reply": "2025-01-24T19:47:26.618880Z"
    },
    "papermill": {
     "duration": 0.017215,
     "end_time": "2025-01-24T19:47:26.622149",
     "exception": false,
     "start_time": "2025-01-24T19:47:26.604934",
     "status": "completed"
    },
    "tags": []
   },
   "outputs": [
    {
     "name": "stdout",
     "output_type": "stream",
     "text": [
      "[ 0.         -3.5        -1.34615385  0.80769231]\n"
     ]
    }
   ],
   "source": [
    "print((-3.5/-13)*sistema[2])"
   ]
  },
  {
   "cell_type": "markdown",
   "id": "82f20c67",
   "metadata": {
    "papermill": {
     "duration": 0.007979,
     "end_time": "2025-01-24T19:47:26.638536",
     "exception": false,
     "start_time": "2025-01-24T19:47:26.630557",
     "status": "completed"
    },
    "tags": []
   },
   "source": [
    "Subtraindo, deste resultado, a segunda linha, temos:"
   ]
  },
  {
   "cell_type": "code",
   "execution_count": 16,
   "id": "59765aed",
   "metadata": {
    "execution": {
     "iopub.execute_input": "2025-01-24T19:47:26.656176Z",
     "iopub.status.busy": "2025-01-24T19:47:26.655740Z",
     "iopub.status.idle": "2025-01-24T19:47:26.661160Z",
     "shell.execute_reply": "2025-01-24T19:47:26.660032Z"
    },
    "papermill": {
     "duration": 0.016014,
     "end_time": "2025-01-24T19:47:26.662721",
     "exception": false,
     "start_time": "2025-01-24T19:47:26.646707",
     "status": "completed"
    },
    "tags": []
   },
   "outputs": [
    {
     "name": "stdout",
     "output_type": "stream",
     "text": [
      "[ 0.          0.         -3.34615385  2.80769231]\n"
     ]
    }
   ],
   "source": [
    "print((-3.5/-13)*sistema[2]-sistema[1])"
   ]
  },
  {
   "cell_type": "markdown",
   "id": "0cc91ce8",
   "metadata": {
    "papermill": {
     "duration": 0.007685,
     "end_time": "2025-01-24T19:47:26.678611",
     "exception": false,
     "start_time": "2025-01-24T19:47:26.670926",
     "status": "completed"
    },
    "tags": []
   },
   "source": [
    "Fazendo a substituição, na matriz `sistema\", da terceira linha pela linha acima, temos:"
   ]
  },
  {
   "cell_type": "code",
   "execution_count": 17,
   "id": "17b6940a",
   "metadata": {
    "execution": {
     "iopub.execute_input": "2025-01-24T19:47:26.695904Z",
     "iopub.status.busy": "2025-01-24T19:47:26.695455Z",
     "iopub.status.idle": "2025-01-24T19:47:26.701471Z",
     "shell.execute_reply": "2025-01-24T19:47:26.700161Z"
    },
    "papermill": {
     "duration": 0.0167,
     "end_time": "2025-01-24T19:47:26.703211",
     "exception": false,
     "start_time": "2025-01-24T19:47:26.686511",
     "status": "completed"
    },
    "tags": []
   },
   "outputs": [
    {
     "name": "stdout",
     "output_type": "stream",
     "text": [
      "[[ 2.          3.         -1.          5.        ]\n",
      " [ 0.         -3.5         2.         -2.        ]\n",
      " [ 0.          0.         -3.34615385  2.80769231]]\n"
     ]
    }
   ],
   "source": [
    "sistema[2] = (-3.5/-13)*sistema[2]-sistema[1]\n",
    "\n",
    "print(sistema)"
   ]
  },
  {
   "cell_type": "markdown",
   "id": "a6c924ad",
   "metadata": {
    "papermill": {
     "duration": 0.007912,
     "end_time": "2025-01-24T19:47:26.719176",
     "exception": false,
     "start_time": "2025-01-24T19:47:26.711264",
     "status": "completed"
    },
    "tags": []
   },
   "source": [
    "Assim, o sistema inicial foi reescrito como:\n",
    "\n",
    "$$\n",
    "\\begin{cases}\n",
    "2x + 3y - z &= 5 \\\\\n",
    "0x - 3.5y + 2z &= -2 \\\\\n",
    "0x + 0y - 3.34615385z &= 2.80769231\n",
    "\\end{cases}\n",
    "$$"
   ]
  },
  {
   "cell_type": "markdown",
   "id": "bdf50927",
   "metadata": {
    "papermill": {
     "duration": 0.0083,
     "end_time": "2025-01-24T19:47:26.735476",
     "exception": false,
     "start_time": "2025-01-24T19:47:26.727176",
     "status": "completed"
    },
    "tags": []
   },
   "source": [
    "Assim, o valor de $z$ é:"
   ]
  },
  {
   "cell_type": "code",
   "execution_count": 18,
   "id": "b5adac00",
   "metadata": {
    "execution": {
     "iopub.execute_input": "2025-01-24T19:47:26.752514Z",
     "iopub.status.busy": "2025-01-24T19:47:26.752168Z",
     "iopub.status.idle": "2025-01-24T19:47:26.757643Z",
     "shell.execute_reply": "2025-01-24T19:47:26.756280Z"
    },
    "papermill": {
     "duration": 0.016337,
     "end_time": "2025-01-24T19:47:26.759649",
     "exception": false,
     "start_time": "2025-01-24T19:47:26.743312",
     "status": "completed"
    },
    "tags": []
   },
   "outputs": [
    {
     "name": "stdout",
     "output_type": "stream",
     "text": [
      "-0.83908045949531\n"
     ]
    }
   ],
   "source": [
    "z = 2.80769231/(-3.34615385)\n",
    "print(z)"
   ]
  },
  {
   "cell_type": "markdown",
   "id": "9f2c1148",
   "metadata": {
    "papermill": {
     "duration": 0.007776,
     "end_time": "2025-01-24T19:47:26.775661",
     "exception": false,
     "start_time": "2025-01-24T19:47:26.767885",
     "status": "completed"
    },
    "tags": []
   },
   "source": [
    "Tendo o valor de $z$, calculamos o valor de $y$, por:"
   ]
  },
  {
   "cell_type": "code",
   "execution_count": 19,
   "id": "59492c72",
   "metadata": {
    "execution": {
     "iopub.execute_input": "2025-01-24T19:47:26.793199Z",
     "iopub.status.busy": "2025-01-24T19:47:26.792842Z",
     "iopub.status.idle": "2025-01-24T19:47:26.797931Z",
     "shell.execute_reply": "2025-01-24T19:47:26.796746Z"
    },
    "papermill": {
     "duration": 0.016675,
     "end_time": "2025-01-24T19:47:26.800343",
     "exception": false,
     "start_time": "2025-01-24T19:47:26.783668",
     "status": "completed"
    },
    "tags": []
   },
   "outputs": [
    {
     "name": "stdout",
     "output_type": "stream",
     "text": [
      "0.09195402314553716\n"
     ]
    }
   ],
   "source": [
    "y = (-2-2*z)/(-3.5)\n",
    "print(y)"
   ]
  },
  {
   "cell_type": "markdown",
   "id": "09686659",
   "metadata": {
    "papermill": {
     "duration": 0.008106,
     "end_time": "2025-01-24T19:47:26.817262",
     "exception": false,
     "start_time": "2025-01-24T19:47:26.809156",
     "status": "completed"
    },
    "tags": []
   },
   "source": [
    "Tendo o valor de $z$ e de $y$, calculamos $x$ por:"
   ]
  },
  {
   "cell_type": "code",
   "execution_count": 20,
   "id": "8c8a18a2",
   "metadata": {
    "execution": {
     "iopub.execute_input": "2025-01-24T19:47:26.835031Z",
     "iopub.status.busy": "2025-01-24T19:47:26.834619Z",
     "iopub.status.idle": "2025-01-24T19:47:26.840382Z",
     "shell.execute_reply": "2025-01-24T19:47:26.838798Z"
    },
    "papermill": {
     "duration": 0.016376,
     "end_time": "2025-01-24T19:47:26.842036",
     "exception": false,
     "start_time": "2025-01-24T19:47:26.825660",
     "status": "completed"
    },
    "tags": []
   },
   "outputs": [
    {
     "name": "stdout",
     "output_type": "stream",
     "text": [
      "1.942528735534039\n"
     ]
    }
   ],
   "source": [
    "x = (5+z-3*y)/2\n",
    "print(x)"
   ]
  },
  {
   "cell_type": "markdown",
   "id": "387fa83d",
   "metadata": {
    "papermill": {
     "duration": 0.007989,
     "end_time": "2025-01-24T19:47:26.858402",
     "exception": false,
     "start_time": "2025-01-24T19:47:26.850413",
     "status": "completed"
    },
    "tags": []
   },
   "source": [
    "Então, a solução para o sistema apresentado no início do notebook é $(1.942528735534039; 0.09195402314553716; -0.83908045949531)$. O que converge com o resultado encontrado pela função `np.linalg.solve`. Veja abaixo."
   ]
  },
  {
   "cell_type": "code",
   "execution_count": 21,
   "id": "525fc278",
   "metadata": {
    "execution": {
     "iopub.execute_input": "2025-01-24T19:47:26.877885Z",
     "iopub.status.busy": "2025-01-24T19:47:26.877494Z",
     "iopub.status.idle": "2025-01-24T19:47:26.889495Z",
     "shell.execute_reply": "2025-01-24T19:47:26.888347Z"
    },
    "papermill": {
     "duration": 0.024699,
     "end_time": "2025-01-24T19:47:26.891182",
     "exception": false,
     "start_time": "2025-01-24T19:47:26.866483",
     "status": "completed"
    },
    "tags": []
   },
   "outputs": [
    {
     "name": "stdout",
     "output_type": "stream",
     "text": [
      "[[ 1.94252874]\n",
      " [ 0.09195402]\n",
      " [-0.83908046]]\n"
     ]
    }
   ],
   "source": [
    "print(np.linalg.solve(coeficientes, resultados))"
   ]
  },
  {
   "cell_type": "markdown",
   "id": "a18cf1f7",
   "metadata": {
    "papermill": {
     "duration": 0.008101,
     "end_time": "2025-01-24T19:47:26.907747",
     "exception": false,
     "start_time": "2025-01-24T19:47:26.899646",
     "status": "completed"
    },
    "tags": []
   },
   "source": [
    "Referências\n",
    "\n",
    "[Mathematics for Machine Learning and Data Science Specialization](https://www.coursera.org/specializations/mathematics-for-machine-learning-and-data-science)\n"
   ]
  }
 ],
 "metadata": {
  "kaggle": {
   "accelerator": "none",
   "dataSources": [],
   "dockerImageVersionId": 30839,
   "isGpuEnabled": false,
   "isInternetEnabled": true,
   "language": "python",
   "sourceType": "notebook"
  },
  "kernelspec": {
   "display_name": "Python 3",
   "language": "python",
   "name": "python3"
  },
  "language_info": {
   "codemirror_mode": {
    "name": "ipython",
    "version": 3
   },
   "file_extension": ".py",
   "mimetype": "text/x-python",
   "name": "python",
   "nbconvert_exporter": "python",
   "pygments_lexer": "ipython3",
   "version": "3.10.12"
  },
  "papermill": {
   "default_parameters": {},
   "duration": 4.212554,
   "end_time": "2025-01-24T19:47:27.436081",
   "environment_variables": {},
   "exception": null,
   "input_path": "__notebook__.ipynb",
   "output_path": "__notebook__.ipynb",
   "parameters": {},
   "start_time": "2025-01-24T19:47:23.223527",
   "version": "2.6.0"
  }
 },
 "nbformat": 4,
 "nbformat_minor": 5
}
