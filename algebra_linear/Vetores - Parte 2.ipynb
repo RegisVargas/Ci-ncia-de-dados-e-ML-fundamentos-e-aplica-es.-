{
 "cells": [
  {
   "cell_type": "markdown",
   "id": "ce65bbda",
   "metadata": {
    "papermill": {
     "duration": 0.003545,
     "end_time": "2025-02-17T17:31:32.207468",
     "exception": false,
     "start_time": "2025-02-17T17:31:32.203923",
     "status": "completed"
    },
    "tags": []
   },
   "source": [
    "Este notebook faz parte do projeto [Ciência de dados e ML: fundamentos e aplicações.](https://www.kaggle.com/code/regisvargas/ci-ncia-de-dados-e-ml-fundamentos-e-aplica-es)\n",
    "\n",
    "# Produto interno\n",
    "\n",
    "O **produto interno** é a ferramenta matemática que pode estar nos bastidores das recomendações de serviços como Netflix e Kindle, ou no processamento de linguagem natural de IAs generativas, como o ChatGPT. Veja, abaixo, como defini-lo de maneira formal.\n",
    "\n",
    "Sejam $\\vec{x} = (x_1, x_2, \\cdots, x_n)$ e $\\vec{y} = (y_1, y_2, \\cdots, y_n)$ vetores com $n$ coordenadas, onde $n$ é um número natural.\n",
    "\n",
    "O **produto interno** entre $\\vec{x}$ e $\\vec{y}$ é definido como:\n",
    "\n",
    "$$\n",
    "\\sum_{i=1}^{n} x_i\\cdot y_i\n",
    "$$"
   ]
  },
  {
   "cell_type": "markdown",
   "id": "566eb0a2",
   "metadata": {
    "papermill": {
     "duration": 0.002661,
     "end_time": "2025-02-17T17:31:32.213411",
     "exception": false,
     "start_time": "2025-02-17T17:31:32.210750",
     "status": "completed"
    },
    "tags": []
   },
   "source": [
    "Então para, por exemplo, calcular o prosuto interno entre o vetor $\\vec{x}=(-1,2,5)$ e o vetor $\\vec{y}=(2,-3,7)$, fazemos os seguinte:\n",
    "\n",
    "$$\n",
    "-1\\cdot 2 + 2\\cdot (-3) + 5\\cdot 7 \n",
    "$$\n",
    "$$\n",
    "= -2-6+35\n",
    "$$\n",
    "$$\n",
    "= 27\n",
    "$$\n",
    "\n",
    "Para verifcar se acertamos o cálculo, podemos calcular este mesmo produto interno, através da função `np.dot`. Veja abaixo."
   ]
  },
  {
   "cell_type": "code",
   "execution_count": 1,
   "id": "851757d8",
   "metadata": {
    "execution": {
     "iopub.execute_input": "2025-02-17T17:31:32.220689Z",
     "iopub.status.busy": "2025-02-17T17:31:32.220181Z",
     "iopub.status.idle": "2025-02-17T17:31:32.228476Z",
     "shell.execute_reply": "2025-02-17T17:31:32.226748Z"
    },
    "papermill": {
     "duration": 0.014458,
     "end_time": "2025-02-17T17:31:32.230669",
     "exception": false,
     "start_time": "2025-02-17T17:31:32.216211",
     "status": "completed"
    },
    "tags": []
   },
   "outputs": [
    {
     "name": "stdout",
     "output_type": "stream",
     "text": [
      "27\n"
     ]
    }
   ],
   "source": [
    "import numpy as np\n",
    "\n",
    "x = np.array([-1,2,5])\n",
    "\n",
    "y = np.array([2,-3,7])\n",
    "\n",
    "print(np.dot(x,y))"
   ]
  },
  {
   "cell_type": "markdown",
   "id": "f386b9d3",
   "metadata": {
    "papermill": {
     "duration": 0.00341,
     "end_time": "2025-02-17T17:31:32.237746",
     "exception": false,
     "start_time": "2025-02-17T17:31:32.234336",
     "status": "completed"
    },
    "tags": []
   },
   "source": [
    "Ou, equivalentemente, através do operador `@`. O qual, equivale a operação de produto inteVeja:"
   ]
  },
  {
   "cell_type": "code",
   "execution_count": 2,
   "id": "1b032ece",
   "metadata": {
    "execution": {
     "iopub.execute_input": "2025-02-17T17:31:32.245513Z",
     "iopub.status.busy": "2025-02-17T17:31:32.245114Z",
     "iopub.status.idle": "2025-02-17T17:31:32.251122Z",
     "shell.execute_reply": "2025-02-17T17:31:32.249674Z"
    },
    "papermill": {
     "duration": 0.012185,
     "end_time": "2025-02-17T17:31:32.253160",
     "exception": false,
     "start_time": "2025-02-17T17:31:32.240975",
     "status": "completed"
    },
    "tags": []
   },
   "outputs": [
    {
     "name": "stdout",
     "output_type": "stream",
     "text": [
      "27\n"
     ]
    }
   ],
   "source": [
    "print(x@y)"
   ]
  },
  {
   "cell_type": "markdown",
   "id": "c6a19d27",
   "metadata": {
    "papermill": {
     "duration": 0.002928,
     "end_time": "2025-02-17T17:31:32.259641",
     "exception": false,
     "start_time": "2025-02-17T17:31:32.256713",
     "status": "completed"
    },
    "tags": []
   },
   "source": [
    "Podemos mostrar que:\n",
    "\n",
    "$$\n",
    "\\sum_{i=1}^{n}x_i\\cdot y_i = |x|\\cdot |y| \\cdot cos(\\theta)\n",
    "$$\n",
    "\n",
    "Onde $\\theta$ é o ângulo formado pelos vetores $\\vec{x}$ e $\\vec{y}$.\n",
    "\n",
    "Sob esta perspectiva, fica subentendido que primeiro fazemos a projeção de $\\vec{y}$ sobre $\\vec{x}$ e, posteriormente, multiplicamos o tamanho desta \"sombra\" pelo tamanho do vetor $\\vec{x}$.\n",
    "\n",
    "Isso pode ser mostrado graficamente, utilizando a biblioteca Matplotlib, veja abaixo."
   ]
  },
  {
   "cell_type": "code",
   "execution_count": 3,
   "id": "1b8700b3",
   "metadata": {
    "execution": {
     "iopub.execute_input": "2025-02-17T17:31:32.267445Z",
     "iopub.status.busy": "2025-02-17T17:31:32.267057Z",
     "iopub.status.idle": "2025-02-17T17:31:32.799588Z",
     "shell.execute_reply": "2025-02-17T17:31:32.798155Z"
    },
    "papermill": {
     "duration": 0.538898,
     "end_time": "2025-02-17T17:31:32.801724",
     "exception": false,
     "start_time": "2025-02-17T17:31:32.262826",
     "status": "completed"
    },
    "tags": []
   },
   "outputs": [
    {
     "data": {
      "image/png": "[encoded data removed]",
      "text/plain": [
       "<Figure size 800x800 with 1 Axes>"
      ]
     },
     "metadata": {},
     "output_type": "display_data"
    }
   ],
   "source": [
    "import numpy as np\n",
    "import matplotlib.pyplot as plt\n",
    "\n",
    "def plot_vector_projection():\n",
    "    # Definindo os vetores\n",
    "    x = np.array([3, 1])\n",
    "    y = np.array([1.5, 2])\n",
    "    \n",
    "    # Calculando a projeção de y sobre x\n",
    "    proj_y_on_x = (np.dot(y, x) / np.dot(x, x)) * x\n",
    "    \n",
    "    # Criando a figura e os eixos\n",
    "    fig, ax = plt.subplots(figsize=(8, 8))\n",
    "    ax.set_xlim(-1, 6)\n",
    "    ax.set_ylim(-1, 6)\n",
    "    ax.set_aspect('equal')\n",
    "    ax.grid(True)\n",
    "    \n",
    "    # Plotando os vetores utilizando plt.quiver\n",
    "    ax.quiver(0, 0, x[0], x[1], angles='xy', scale_units='xy', scale=1, color='blue', label=r'$\\vec{x}$')\n",
    "    ax.quiver(0, 0, y[0], y[1], angles='xy', scale_units='xy', scale=1, color='green', label=r'$\\vec{y}$')\n",
    "    ax.quiver(0, 0, proj_y_on_x[0], proj_y_on_x[1], angles='xy', scale_units='xy', scale=1, color='red', label=r'Projeção de $\\vec{y}$ em $\\vec{x}$')\n",
    "    \n",
    "    # Desenhando a linha tracejada para evidenciar a projeção\n",
    "    ax.plot([y[0], proj_y_on_x[0]], [y[1], proj_y_on_x[1]], 'r--')\n",
    "    \n",
    "    # Título e legenda\n",
    "    ax.set_title(r'Produto Escalar: $\\vec{x}\\cdot\\vec{y} = |\\vec{x}|\\;|\\vec{y}|\\cos\\theta$')\n",
    "    ax.legend(loc='upper right')\n",
    "    \n",
    "    plt.show()\n",
    "\n",
    "plot_vector_projection()\n"
   ]
  },
  {
   "cell_type": "markdown",
   "id": "a31be8f0",
   "metadata": {
    "papermill": {
     "duration": 0.003475,
     "end_time": "2025-02-17T17:31:32.809221",
     "exception": false,
     "start_time": "2025-02-17T17:31:32.805746",
     "status": "completed"
    },
    "tags": []
   },
   "source": [
    "# Alinhamento dos vetores\n",
    "\n",
    "Se $\\vec{x}$ e $\\vec{y}$ estão perfeitamente alinhados, então $\\theta = 0$ e, consequentemente, $cos(\\theta) = 1$. Neste caso, o produto interno entre $\\vec{x}$ e $\\vec{y}$ atinge o valor máximo.\n",
    "\n",
    "Se $\\vec{x}$ e $\\vec{y}$ forem perpendiculares, isto é, $\\theta = 90°$, então $cos(\\theta) = 0$. O que nos dá um produto interno entre $\\vec{x}$ e $\\vec{y}$ também igual a zero.\n",
    "\n",
    "Se $\\vec{y}$ aponta no sentido oposto de $\\vec{x}$, então $\\theta = 180°$ e, consequentemente, $cos(\\theta) = -1$. Neste caso, o valor do produto interno fica negativo."
   ]
  },
  {
   "cell_type": "markdown",
   "id": "0a789f2b",
   "metadata": {
    "papermill": {
     "duration": 0.003323,
     "end_time": "2025-02-17T17:31:32.816226",
     "exception": false,
     "start_time": "2025-02-17T17:31:32.812903",
     "status": "completed"
    },
    "tags": []
   },
   "source": [
    "# Aplicação\n",
    "\n",
    "Suponha que $\\vec{u} = (0.7, 0.9, -0.4, -1.0)$ represente o interesse de um usuário nos respectivos gêneros: comédia, ação, drama e suspense.\n",
    "\n",
    "Suponha $\\vec{v} = (0.9, 0.6, -0.1, -0.9)$ e $\\vec{w} = (0.1, 0.3, -0.8, 0.7)$ sejam filmes codificados para os mesmos gêneros.\n",
    "\n",
    "Qual dos dois, filmes deveriam ser sugeridos ao usuário?\n",
    "\n",
    "Neste caso, podemos usar o produto interno como um score para cada filme. Veja o código abaixo."
   ]
  },
  {
   "cell_type": "code",
   "execution_count": 4,
   "id": "5d08bd7d",
   "metadata": {
    "execution": {
     "iopub.execute_input": "2025-02-17T17:31:32.825560Z",
     "iopub.status.busy": "2025-02-17T17:31:32.825073Z",
     "iopub.status.idle": "2025-02-17T17:31:32.832424Z",
     "shell.execute_reply": "2025-02-17T17:31:32.831127Z"
    },
    "papermill": {
     "duration": 0.014539,
     "end_time": "2025-02-17T17:31:32.834327",
     "exception": false,
     "start_time": "2025-02-17T17:31:32.819788",
     "status": "completed"
    },
    "tags": []
   },
   "outputs": [
    {
     "name": "stdout",
     "output_type": "stream",
     "text": [
      "2.11\n",
      "-0.03999999999999987\n"
     ]
    }
   ],
   "source": [
    "u = np.array([0.7, 0.9, -0.4, -1.0])\n",
    "\n",
    "v = np.array([0.9, 0.6, -0.1, -0.9])\n",
    "\n",
    "w = np.array([0.1, 0.3, -0.8, 0.7])\n",
    "\n",
    "print(u@v)\n",
    "\n",
    "print(u@w)"
   ]
  },
  {
   "cell_type": "markdown",
   "id": "cef1eae4",
   "metadata": {
    "papermill": {
     "duration": 0.003599,
     "end_time": "2025-02-17T17:31:32.842101",
     "exception": false,
     "start_time": "2025-02-17T17:31:32.838502",
     "status": "completed"
    },
    "tags": []
   },
   "source": [
    "Como podemos ver, pelos valores acima, a melhor indicação para o usuário é o filme representado pelo vetor $\\vec{v}$."
   ]
  },
  {
   "cell_type": "markdown",
   "id": "4d16db82",
   "metadata": {
    "papermill": {
     "duration": 0.003612,
     "end_time": "2025-02-17T17:31:32.849541",
     "exception": false,
     "start_time": "2025-02-17T17:31:32.845929",
     "status": "completed"
    },
    "tags": []
   },
   "source": [
    "Referências\n",
    "\n",
    "[Mathematics for Machine Learning and Data Science Specialization](https://www.coursera.org/specializations/mathematics-for-machine-learning-and-data-science)\n",
    "\n",
    "[Unveiling the Inner Product: The Key to Similarity in Math, Machine Learning, and Beyond](https://kalami.medium.com/unveiling-the-inner-product-the-key-to-similarity-in-math-machine-learning-and-beyond-290b43cf34fd)"
   ]
  }
 ],
 "metadata": {
  "kaggle": {
   "accelerator": "none",
   "dataSources": [],
   "dockerImageVersionId": 30886,
   "isGpuEnabled": false,
   "isInternetEnabled": true,
   "language": "python",
   "sourceType": "notebook"
  },
  "kernelspec": {
   "display_name": "Python 3",
   "language": "python",
   "name": "python3"
  },
  "language_info": {
   "codemirror_mode": {
    "name": "ipython",
    "version": 3
   },
   "file_extension": ".py",
   "mimetype": "text/x-python",
   "name": "python",
   "nbconvert_exporter": "python",
   "pygments_lexer": "ipython3",
   "version": "3.10.12"
  },
  "papermill": {
   "default_parameters": {},
   "duration": 4.27089,
   "end_time": "2025-02-17T17:31:33.376724",
   "environment_variables": {},
   "exception": null,
   "input_path": "__notebook__.ipynb",
   "output_path": "__notebook__.ipynb",
   "parameters": {},
   "start_time": "2025-02-17T17:31:29.105834",
   "version": "2.6.0"
  }
 },
 "nbformat": 4,
 "nbformat_minor": 5
}
